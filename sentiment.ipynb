{
 "cells": [
  {
   "cell_type": "code",
   "execution_count": 1,
   "outputs": [
    {
     "data": {
      "text/plain": "     INPUT:input OUTPUT:answer OUTPUT:Jan_feel  \\\n0           test       in_love     Being loved   \n1            NaN           NaN             NaN   \n2           test       in_love     Being loved   \n3            NaN           NaN             NaN   \n4           test       in_love     Being loved   \n..           ...           ...             ...   \n125         test       in_love     Being loved   \n126         test       in_love   Being ignored   \n127         test         Angry             NaN   \n128         test       in_love   Being ignored   \n129         test         Angry             NaN   \n\n                                    OUTPUT:rationale_1     OUTPUT:rationale_2  \\\n0      Love makes everything in life positive and good                    NaN   \n1                                                  NaN                    NaN   \n2    Totally Correct as Feeling in Love means being...                    NaN   \n3                                                  NaN                    NaN   \n4    I agree. We feel positive emotions, love and c...                    NaN   \n..                                                 ...                    ...   \n125        Because nothing is beyond the bond of love.                    NaN   \n126                                                 25                    NaN   \n127                                              Angry          Take jan home   \n128                                               asdf                    NaN   \n129                                              Angry  Take jan to hospital    \n\n                                    OUTPUT:rationale_3  \\\n0    He is not ready to be separated from her for a...   \n1                                                  NaN   \n2    Couldn’t agree more as Kendall willing to have...   \n3                                                  NaN   \n4    I agree. His thoughts indicate a desire to spe...   \n..                                                 ...   \n125                          Because it is stastifing.   \n126                                                 18   \n127                                                NaN   \n128                                               asdf   \n129                                                NaN   \n\n                                    OUTPUT:rationale_4 OUTPUT:rationale_5  \\\n0               He is ready to share eternity with her                NaN   \n1                                                  NaN                NaN   \n2    Totally correct as he showed love by making he...                NaN   \n3                                                  NaN                NaN   \n4    His actions are quite natural for a loving per...                NaN   \n..                                                 ...                ...   \n125                                      They married                 NaN   \n126                                                 28                NaN   \n127                                                NaN                NaN   \n128                                                 ff                NaN   \n129                                                NaN                NaN   \n\n    OUTPUT:answer_Angry OUTPUT:kendall_feel  ... HINT:text  \\\n0                   NaN                 NaN  ...       NaN   \n1                   NaN                 NaN  ...       NaN   \n2                   NaN                 NaN  ...       NaN   \n3                   NaN                 NaN  ...       NaN   \n4                   NaN                 NaN  ...       NaN   \n..                  ...                 ...  ...       ...   \n125                 NaN                 NaN  ...       NaN   \n126                 NaN                 NaN  ...       NaN   \n127            Jan_home                 NaN  ...       NaN   \n128                 NaN                 NaN  ...       NaN   \n129        Jan hospital                 NaN  ...       NaN   \n\n    HINT:default_language                                    ASSIGNMENT:link  \\\n0                     NaN  https://platform.toloka.ai/task/39728371/00025...   \n1                     NaN                                                NaN   \n2                     NaN  https://platform.toloka.ai/task/39728371/00025...   \n3                     NaN                                                NaN   \n4                     NaN  https://platform.toloka.ai/task/39728371/00025...   \n..                    ...                                                ...   \n125                   NaN  https://platform.toloka.ai/task/39720104/00025...   \n126                   NaN  https://platform.toloka.ai/task/39720104/00025...   \n127                   NaN  https://platform.toloka.ai/task/39720104/00025...   \n128                   NaN  https://platform.toloka.ai/task/39720104/00025...   \n129                   NaN  https://platform.toloka.ai/task/39720104/00025...   \n\n                       ASSIGNMENT:task_id  \\\n0    9b7795b3-e9bd-40c2-942e-5aec7c926517   \n1                                     NaN   \n2    9b7795b3-e9bd-40c2-942e-5aec7c926517   \n3                                     NaN   \n4    9b7795b3-e9bd-40c2-942e-5aec7c926517   \n..                                    ...   \n125  5afc5b61-4996-460e-aff6-d93365ef9b5a   \n126  5afc5b61-4996-460e-aff6-d93365ef9b5a   \n127  5afc5b61-4996-460e-aff6-d93365ef9b5a   \n128  5afc5b61-4996-460e-aff6-d93365ef9b5a   \n129  5afc5b61-4996-460e-aff6-d93365ef9b5a   \n\n                 ASSIGNMENT:assignment_id              ASSIGNMENT:worker_id  \\\n0    00025e34f3--648f545fce8f6852fb6911b1  bfde68810d26c51f58a56f70d6910b8b   \n1                                     NaN                               NaN   \n2    00025e34f3--648f54921da0c520ee516842  90fa8725edfce14d58f95631cd7b40b4   \n3                                     NaN                               NaN   \n4    00025e34f3--648f54946363e5730cc53420  64ee489e93fed73f1fd88c44a8ee8bfe   \n..                                    ...                               ...   \n125  00025e14a8--648ebb49ce8f6852fb5327d3  1b239ad9bc0226cde83637f85b11e448   \n126  00025e14a8--648ebb669da3f310a130fbfd  6fe99fee37188958616b1f35587773b8   \n127  00025e14a8--648ec9ded7c375249d24e8e2  61191c6fde38dd8f0363561f329ab599   \n128  00025e14a8--648ecd0a1b85d236d9f23d4c  03af670395ab0ba37eb7f96dedcd0f56   \n129  00025e14a8--648ed30179f1853cf19d6734  887aed643646dfb3c599924f3d50e21b   \n\n    ASSIGNMENT:status       ASSIGNMENT:started ACCEPT:verdict  \\\n0            APPROVED  2023-06-18T19:00:47.234              +   \n1                 NaN                      NaN            NaN   \n2            APPROVED  2023-06-18T19:01:38.162              +   \n3                 NaN                      NaN            NaN   \n4            APPROVED  2023-06-18T19:01:40.846              +   \n..                ...                      ...            ...   \n125          REJECTED  2023-06-18T08:07:37.807              -   \n126          REJECTED  2023-06-18T08:08:06.475              -   \n127          REJECTED  2023-06-18T09:09:50.203              -   \n128          REJECTED  2023-06-18T09:23:22.390              -   \n129          REJECTED  2023-06-18T09:48:49.553              -   \n\n                  ACCEPT:comment  \n0                            NaN  \n1                            NaN  \n2                            NaN  \n3                            NaN  \n4                            NaN  \n..                           ...  \n125    Rationale is not adequate  \n126  Rationales are not adequate  \n127    Rationale is not adequate  \n128         rationale inadequate  \n129         rationale inadequate  \n\n[130 rows x 52 columns]",
      "text/html": "<div>\n<style scoped>\n    .dataframe tbody tr th:only-of-type {\n        vertical-align: middle;\n    }\n\n    .dataframe tbody tr th {\n        vertical-align: top;\n    }\n\n    .dataframe thead th {\n        text-align: right;\n    }\n</style>\n<table border=\"1\" class=\"dataframe\">\n  <thead>\n    <tr style=\"text-align: right;\">\n      <th></th>\n      <th>INPUT:input</th>\n      <th>OUTPUT:answer</th>\n      <th>OUTPUT:Jan_feel</th>\n      <th>OUTPUT:rationale_1</th>\n      <th>OUTPUT:rationale_2</th>\n      <th>OUTPUT:rationale_3</th>\n      <th>OUTPUT:rationale_4</th>\n      <th>OUTPUT:rationale_5</th>\n      <th>OUTPUT:answer_Angry</th>\n      <th>OUTPUT:kendall_feel</th>\n      <th>...</th>\n      <th>HINT:text</th>\n      <th>HINT:default_language</th>\n      <th>ASSIGNMENT:link</th>\n      <th>ASSIGNMENT:task_id</th>\n      <th>ASSIGNMENT:assignment_id</th>\n      <th>ASSIGNMENT:worker_id</th>\n      <th>ASSIGNMENT:status</th>\n      <th>ASSIGNMENT:started</th>\n      <th>ACCEPT:verdict</th>\n      <th>ACCEPT:comment</th>\n    </tr>\n  </thead>\n  <tbody>\n    <tr>\n      <th>0</th>\n      <td>test</td>\n      <td>in_love</td>\n      <td>Being loved</td>\n      <td>Love makes everything in life positive and good</td>\n      <td>NaN</td>\n      <td>He is not ready to be separated from her for a...</td>\n      <td>He is ready to share eternity with her</td>\n      <td>NaN</td>\n      <td>NaN</td>\n      <td>NaN</td>\n      <td>...</td>\n      <td>NaN</td>\n      <td>NaN</td>\n      <td>https://platform.toloka.ai/task/39728371/00025...</td>\n      <td>9b7795b3-e9bd-40c2-942e-5aec7c926517</td>\n      <td>00025e34f3--648f545fce8f6852fb6911b1</td>\n      <td>bfde68810d26c51f58a56f70d6910b8b</td>\n      <td>APPROVED</td>\n      <td>2023-06-18T19:00:47.234</td>\n      <td>+</td>\n      <td>NaN</td>\n    </tr>\n    <tr>\n      <th>1</th>\n      <td>NaN</td>\n      <td>NaN</td>\n      <td>NaN</td>\n      <td>NaN</td>\n      <td>NaN</td>\n      <td>NaN</td>\n      <td>NaN</td>\n      <td>NaN</td>\n      <td>NaN</td>\n      <td>NaN</td>\n      <td>...</td>\n      <td>NaN</td>\n      <td>NaN</td>\n      <td>NaN</td>\n      <td>NaN</td>\n      <td>NaN</td>\n      <td>NaN</td>\n      <td>NaN</td>\n      <td>NaN</td>\n      <td>NaN</td>\n      <td>NaN</td>\n    </tr>\n    <tr>\n      <th>2</th>\n      <td>test</td>\n      <td>in_love</td>\n      <td>Being loved</td>\n      <td>Totally Correct as Feeling in Love means being...</td>\n      <td>NaN</td>\n      <td>Couldn’t agree more as Kendall willing to have...</td>\n      <td>Totally correct as he showed love by making he...</td>\n      <td>NaN</td>\n      <td>NaN</td>\n      <td>NaN</td>\n      <td>...</td>\n      <td>NaN</td>\n      <td>NaN</td>\n      <td>https://platform.toloka.ai/task/39728371/00025...</td>\n      <td>9b7795b3-e9bd-40c2-942e-5aec7c926517</td>\n      <td>00025e34f3--648f54921da0c520ee516842</td>\n      <td>90fa8725edfce14d58f95631cd7b40b4</td>\n      <td>APPROVED</td>\n      <td>2023-06-18T19:01:38.162</td>\n      <td>+</td>\n      <td>NaN</td>\n    </tr>\n    <tr>\n      <th>3</th>\n      <td>NaN</td>\n      <td>NaN</td>\n      <td>NaN</td>\n      <td>NaN</td>\n      <td>NaN</td>\n      <td>NaN</td>\n      <td>NaN</td>\n      <td>NaN</td>\n      <td>NaN</td>\n      <td>NaN</td>\n      <td>...</td>\n      <td>NaN</td>\n      <td>NaN</td>\n      <td>NaN</td>\n      <td>NaN</td>\n      <td>NaN</td>\n      <td>NaN</td>\n      <td>NaN</td>\n      <td>NaN</td>\n      <td>NaN</td>\n      <td>NaN</td>\n    </tr>\n    <tr>\n      <th>4</th>\n      <td>test</td>\n      <td>in_love</td>\n      <td>Being loved</td>\n      <td>I agree. We feel positive emotions, love and c...</td>\n      <td>NaN</td>\n      <td>I agree. His thoughts indicate a desire to spe...</td>\n      <td>His actions are quite natural for a loving per...</td>\n      <td>NaN</td>\n      <td>NaN</td>\n      <td>NaN</td>\n      <td>...</td>\n      <td>NaN</td>\n      <td>NaN</td>\n      <td>https://platform.toloka.ai/task/39728371/00025...</td>\n      <td>9b7795b3-e9bd-40c2-942e-5aec7c926517</td>\n      <td>00025e34f3--648f54946363e5730cc53420</td>\n      <td>64ee489e93fed73f1fd88c44a8ee8bfe</td>\n      <td>APPROVED</td>\n      <td>2023-06-18T19:01:40.846</td>\n      <td>+</td>\n      <td>NaN</td>\n    </tr>\n    <tr>\n      <th>...</th>\n      <td>...</td>\n      <td>...</td>\n      <td>...</td>\n      <td>...</td>\n      <td>...</td>\n      <td>...</td>\n      <td>...</td>\n      <td>...</td>\n      <td>...</td>\n      <td>...</td>\n      <td>...</td>\n      <td>...</td>\n      <td>...</td>\n      <td>...</td>\n      <td>...</td>\n      <td>...</td>\n      <td>...</td>\n      <td>...</td>\n      <td>...</td>\n      <td>...</td>\n      <td>...</td>\n    </tr>\n    <tr>\n      <th>125</th>\n      <td>test</td>\n      <td>in_love</td>\n      <td>Being loved</td>\n      <td>Because nothing is beyond the bond of love.</td>\n      <td>NaN</td>\n      <td>Because it is stastifing.</td>\n      <td>They married</td>\n      <td>NaN</td>\n      <td>NaN</td>\n      <td>NaN</td>\n      <td>...</td>\n      <td>NaN</td>\n      <td>NaN</td>\n      <td>https://platform.toloka.ai/task/39720104/00025...</td>\n      <td>5afc5b61-4996-460e-aff6-d93365ef9b5a</td>\n      <td>00025e14a8--648ebb49ce8f6852fb5327d3</td>\n      <td>1b239ad9bc0226cde83637f85b11e448</td>\n      <td>REJECTED</td>\n      <td>2023-06-18T08:07:37.807</td>\n      <td>-</td>\n      <td>Rationale is not adequate</td>\n    </tr>\n    <tr>\n      <th>126</th>\n      <td>test</td>\n      <td>in_love</td>\n      <td>Being ignored</td>\n      <td>25</td>\n      <td>NaN</td>\n      <td>18</td>\n      <td>28</td>\n      <td>NaN</td>\n      <td>NaN</td>\n      <td>NaN</td>\n      <td>...</td>\n      <td>NaN</td>\n      <td>NaN</td>\n      <td>https://platform.toloka.ai/task/39720104/00025...</td>\n      <td>5afc5b61-4996-460e-aff6-d93365ef9b5a</td>\n      <td>00025e14a8--648ebb669da3f310a130fbfd</td>\n      <td>6fe99fee37188958616b1f35587773b8</td>\n      <td>REJECTED</td>\n      <td>2023-06-18T08:08:06.475</td>\n      <td>-</td>\n      <td>Rationales are not adequate</td>\n    </tr>\n    <tr>\n      <th>127</th>\n      <td>test</td>\n      <td>Angry</td>\n      <td>NaN</td>\n      <td>Angry</td>\n      <td>Take jan home</td>\n      <td>NaN</td>\n      <td>NaN</td>\n      <td>NaN</td>\n      <td>Jan_home</td>\n      <td>NaN</td>\n      <td>...</td>\n      <td>NaN</td>\n      <td>NaN</td>\n      <td>https://platform.toloka.ai/task/39720104/00025...</td>\n      <td>5afc5b61-4996-460e-aff6-d93365ef9b5a</td>\n      <td>00025e14a8--648ec9ded7c375249d24e8e2</td>\n      <td>61191c6fde38dd8f0363561f329ab599</td>\n      <td>REJECTED</td>\n      <td>2023-06-18T09:09:50.203</td>\n      <td>-</td>\n      <td>Rationale is not adequate</td>\n    </tr>\n    <tr>\n      <th>128</th>\n      <td>test</td>\n      <td>in_love</td>\n      <td>Being ignored</td>\n      <td>asdf</td>\n      <td>NaN</td>\n      <td>asdf</td>\n      <td>ff</td>\n      <td>NaN</td>\n      <td>NaN</td>\n      <td>NaN</td>\n      <td>...</td>\n      <td>NaN</td>\n      <td>NaN</td>\n      <td>https://platform.toloka.ai/task/39720104/00025...</td>\n      <td>5afc5b61-4996-460e-aff6-d93365ef9b5a</td>\n      <td>00025e14a8--648ecd0a1b85d236d9f23d4c</td>\n      <td>03af670395ab0ba37eb7f96dedcd0f56</td>\n      <td>REJECTED</td>\n      <td>2023-06-18T09:23:22.390</td>\n      <td>-</td>\n      <td>rationale inadequate</td>\n    </tr>\n    <tr>\n      <th>129</th>\n      <td>test</td>\n      <td>Angry</td>\n      <td>NaN</td>\n      <td>Angry</td>\n      <td>Take jan to hospital</td>\n      <td>NaN</td>\n      <td>NaN</td>\n      <td>NaN</td>\n      <td>Jan hospital</td>\n      <td>NaN</td>\n      <td>...</td>\n      <td>NaN</td>\n      <td>NaN</td>\n      <td>https://platform.toloka.ai/task/39720104/00025...</td>\n      <td>5afc5b61-4996-460e-aff6-d93365ef9b5a</td>\n      <td>00025e14a8--648ed30179f1853cf19d6734</td>\n      <td>887aed643646dfb3c599924f3d50e21b</td>\n      <td>REJECTED</td>\n      <td>2023-06-18T09:48:49.553</td>\n      <td>-</td>\n      <td>rationale inadequate</td>\n    </tr>\n  </tbody>\n</table>\n<p>130 rows × 52 columns</p>\n</div>"
     },
     "execution_count": 1,
     "metadata": {},
     "output_type": "execute_result"
    }
   ],
   "source": [
    "import pandas as pd\n",
    "df = pd.read_csv('output_1.csv')\n",
    "df"
   ],
   "metadata": {
    "collapsed": false,
    "pycharm": {
     "name": "#%%\n"
    }
   }
  },
  {
   "cell_type": "code",
   "execution_count": 2,
   "outputs": [
    {
     "data": {
      "text/plain": "     INPUT:input OUTPUT:answer OUTPUT:Jan_feel  \\\n0           test       in_love     Being loved   \n2           test       in_love     Being loved   \n4           test       in_love     Being loved   \n6           test       in_love     Being loved   \n8           test       in_love     Being loved   \n..           ...           ...             ...   \n114         test       in_love     Being loved   \n115         test       in_love     Being loved   \n116         test         Angry             NaN   \n117         test       in_love     Being loved   \n118         test       in_love             NaN   \n\n                                    OUTPUT:rationale_1  \\\n0      Love makes everything in life positive and good   \n2    Totally Correct as Feeling in Love means being...   \n4    I agree. We feel positive emotions, love and c...   \n6          She shows love towards a friend called Jan.   \n8    I totally agree with AI rationale. I don't see...   \n..                                                 ...   \n114                              growth and connection   \n115                                they live together    \n116  He has been pandering to Jan and seeking valid...   \n117                                      Good emotions   \n118     It is a mistake since I should have felt anger   \n\n                    OUTPUT:rationale_2  \\\n0                                  NaN   \n2                                  NaN   \n4                                  NaN   \n6                                  NaN   \n8                                  NaN   \n..                                 ...   \n114                                NaN   \n115                                NaN   \n116  The above are posssibele outcomes   \n117                                NaN   \n118                                NaN   \n\n                                    OUTPUT:rationale_3  \\\n0    He is not ready to be separated from her for a...   \n2    Couldn’t agree more as Kendall willing to have...   \n4    I agree. His thoughts indicate a desire to spe...   \n6    She is interested in knowing about who is goin...   \n8    I agree with AI's rationale.Our previous choic...   \n..                                                 ...   \n114                        talk to jan about the dance   \n115                               jan engaged with her   \n116                                                NaN   \n117                                I love good endings   \n118                                           correcto   \n\n                                    OUTPUT:rationale_4 OUTPUT:rationale_5  \\\n0               He is ready to share eternity with her                NaN   \n2    Totally correct as he showed love by making he...                NaN   \n4    His actions are quite natural for a loving per...                NaN   \n6    Kendall is concerned whether Jan is well and w...                NaN   \n8                     I fully agree with AI rationale.                NaN   \n..                                                 ...                ...   \n114  Kendall's actions of trying to make sure Jan s...                NaN   \n115                         they shoul love each other                NaN   \n116                                                NaN                NaN   \n117                                I love good endings                NaN   \n118                                                NaN            correct   \n\n    OUTPUT:answer_Angry OUTPUT:kendall_feel  ... HINT:text  \\\n0                   NaN                 NaN  ...       NaN   \n2                   NaN                 NaN  ...       NaN   \n4                   NaN                 NaN  ...       NaN   \n6                   NaN                 NaN  ...       NaN   \n8                   NaN                 NaN  ...       NaN   \n..                  ...                 ...  ...       ...   \n114                 NaN                 NaN  ...       NaN   \n115                 NaN                 NaN  ...       NaN   \n116            Jan_home                 NaN  ...       NaN   \n117                 NaN                 NaN  ...       NaN   \n118                 NaN              love_2  ...       NaN   \n\n    HINT:default_language                                    ASSIGNMENT:link  \\\n0                     NaN  https://platform.toloka.ai/task/39728371/00025...   \n2                     NaN  https://platform.toloka.ai/task/39728371/00025...   \n4                     NaN  https://platform.toloka.ai/task/39728371/00025...   \n6                     NaN  https://platform.toloka.ai/task/39728371/00025...   \n8                     NaN  https://platform.toloka.ai/task/39728371/00025...   \n..                    ...                                                ...   \n114                   NaN  https://platform.toloka.ai/task/39720104/00025...   \n115                   NaN  https://platform.toloka.ai/task/39720104/00025...   \n116                   NaN  https://platform.toloka.ai/task/39720104/00025...   \n117                   NaN  https://platform.toloka.ai/task/39720104/00025...   \n118                   NaN  https://platform.toloka.ai/task/39720104/00025...   \n\n                       ASSIGNMENT:task_id  \\\n0    9b7795b3-e9bd-40c2-942e-5aec7c926517   \n2    9b7795b3-e9bd-40c2-942e-5aec7c926517   \n4    9b7795b3-e9bd-40c2-942e-5aec7c926517   \n6    9b7795b3-e9bd-40c2-942e-5aec7c926517   \n8    9b7795b3-e9bd-40c2-942e-5aec7c926517   \n..                                    ...   \n114  5afc5b61-4996-460e-aff6-d93365ef9b5a   \n115  5afc5b61-4996-460e-aff6-d93365ef9b5a   \n116  5afc5b61-4996-460e-aff6-d93365ef9b5a   \n117  5afc5b61-4996-460e-aff6-d93365ef9b5a   \n118  5afc5b61-4996-460e-aff6-d93365ef9b5a   \n\n                 ASSIGNMENT:assignment_id              ASSIGNMENT:worker_id  \\\n0    00025e34f3--648f545fce8f6852fb6911b1  bfde68810d26c51f58a56f70d6910b8b   \n2    00025e34f3--648f54921da0c520ee516842  90fa8725edfce14d58f95631cd7b40b4   \n4    00025e34f3--648f54946363e5730cc53420  64ee489e93fed73f1fd88c44a8ee8bfe   \n6    00025e34f3--648f54a730a157283b8f781c  f66fab3f4844460495ad2fc206363540   \n8    00025e34f3--648f55261b85d236d904cc67  cd183e9eb538d3c9e23db7a682d994b5   \n..                                    ...                               ...   \n114  00025e14a8--648eb99feab89e4159a73549  8b4b9effd636046504d9f4bb635b1c88   \n115  00025e14a8--648ebb1ed2237e38d7c83b95  d05510a88cbb206d35fbaac0c87bd8be   \n116  00025e14a8--648ebb1f30a157283b785fd5  10580bdf6a46d5239243a23bb061797e   \n117  00025e14a8--648ec0585a761439e30663f3  0a536b68aa0f2ae751cf2b4480e4f90a   \n118  00025e14a8--648ec13508b5135b66e30166  2cdc7d9ac1576355caf541498b375b7a   \n\n    ASSIGNMENT:status       ASSIGNMENT:started ACCEPT:verdict ACCEPT:comment  \n0            APPROVED  2023-06-18T19:00:47.234              +            NaN  \n2            APPROVED  2023-06-18T19:01:38.162              +            NaN  \n4            APPROVED  2023-06-18T19:01:40.846              +            NaN  \n6            APPROVED  2023-06-18T19:01:59.151              +            NaN  \n8            APPROVED  2023-06-18T19:04:06.883              +            NaN  \n..                ...                      ...            ...            ...  \n114          APPROVED  2023-06-18T08:00:31.434              +            NaN  \n115          APPROVED  2023-06-18T08:06:54.715              +            NaN  \n116          APPROVED  2023-06-18T08:06:55.427              +            NaN  \n117          APPROVED  2023-06-18T08:29:12.397              +            NaN  \n118          APPROVED  2023-06-18T08:32:53.303              +            NaN  \n\n[64 rows x 52 columns]",
      "text/html": "<div>\n<style scoped>\n    .dataframe tbody tr th:only-of-type {\n        vertical-align: middle;\n    }\n\n    .dataframe tbody tr th {\n        vertical-align: top;\n    }\n\n    .dataframe thead th {\n        text-align: right;\n    }\n</style>\n<table border=\"1\" class=\"dataframe\">\n  <thead>\n    <tr style=\"text-align: right;\">\n      <th></th>\n      <th>INPUT:input</th>\n      <th>OUTPUT:answer</th>\n      <th>OUTPUT:Jan_feel</th>\n      <th>OUTPUT:rationale_1</th>\n      <th>OUTPUT:rationale_2</th>\n      <th>OUTPUT:rationale_3</th>\n      <th>OUTPUT:rationale_4</th>\n      <th>OUTPUT:rationale_5</th>\n      <th>OUTPUT:answer_Angry</th>\n      <th>OUTPUT:kendall_feel</th>\n      <th>...</th>\n      <th>HINT:text</th>\n      <th>HINT:default_language</th>\n      <th>ASSIGNMENT:link</th>\n      <th>ASSIGNMENT:task_id</th>\n      <th>ASSIGNMENT:assignment_id</th>\n      <th>ASSIGNMENT:worker_id</th>\n      <th>ASSIGNMENT:status</th>\n      <th>ASSIGNMENT:started</th>\n      <th>ACCEPT:verdict</th>\n      <th>ACCEPT:comment</th>\n    </tr>\n  </thead>\n  <tbody>\n    <tr>\n      <th>0</th>\n      <td>test</td>\n      <td>in_love</td>\n      <td>Being loved</td>\n      <td>Love makes everything in life positive and good</td>\n      <td>NaN</td>\n      <td>He is not ready to be separated from her for a...</td>\n      <td>He is ready to share eternity with her</td>\n      <td>NaN</td>\n      <td>NaN</td>\n      <td>NaN</td>\n      <td>...</td>\n      <td>NaN</td>\n      <td>NaN</td>\n      <td>https://platform.toloka.ai/task/39728371/00025...</td>\n      <td>9b7795b3-e9bd-40c2-942e-5aec7c926517</td>\n      <td>00025e34f3--648f545fce8f6852fb6911b1</td>\n      <td>bfde68810d26c51f58a56f70d6910b8b</td>\n      <td>APPROVED</td>\n      <td>2023-06-18T19:00:47.234</td>\n      <td>+</td>\n      <td>NaN</td>\n    </tr>\n    <tr>\n      <th>2</th>\n      <td>test</td>\n      <td>in_love</td>\n      <td>Being loved</td>\n      <td>Totally Correct as Feeling in Love means being...</td>\n      <td>NaN</td>\n      <td>Couldn’t agree more as Kendall willing to have...</td>\n      <td>Totally correct as he showed love by making he...</td>\n      <td>NaN</td>\n      <td>NaN</td>\n      <td>NaN</td>\n      <td>...</td>\n      <td>NaN</td>\n      <td>NaN</td>\n      <td>https://platform.toloka.ai/task/39728371/00025...</td>\n      <td>9b7795b3-e9bd-40c2-942e-5aec7c926517</td>\n      <td>00025e34f3--648f54921da0c520ee516842</td>\n      <td>90fa8725edfce14d58f95631cd7b40b4</td>\n      <td>APPROVED</td>\n      <td>2023-06-18T19:01:38.162</td>\n      <td>+</td>\n      <td>NaN</td>\n    </tr>\n    <tr>\n      <th>4</th>\n      <td>test</td>\n      <td>in_love</td>\n      <td>Being loved</td>\n      <td>I agree. We feel positive emotions, love and c...</td>\n      <td>NaN</td>\n      <td>I agree. His thoughts indicate a desire to spe...</td>\n      <td>His actions are quite natural for a loving per...</td>\n      <td>NaN</td>\n      <td>NaN</td>\n      <td>NaN</td>\n      <td>...</td>\n      <td>NaN</td>\n      <td>NaN</td>\n      <td>https://platform.toloka.ai/task/39728371/00025...</td>\n      <td>9b7795b3-e9bd-40c2-942e-5aec7c926517</td>\n      <td>00025e34f3--648f54946363e5730cc53420</td>\n      <td>64ee489e93fed73f1fd88c44a8ee8bfe</td>\n      <td>APPROVED</td>\n      <td>2023-06-18T19:01:40.846</td>\n      <td>+</td>\n      <td>NaN</td>\n    </tr>\n    <tr>\n      <th>6</th>\n      <td>test</td>\n      <td>in_love</td>\n      <td>Being loved</td>\n      <td>She shows love towards a friend called Jan.</td>\n      <td>NaN</td>\n      <td>She is interested in knowing about who is goin...</td>\n      <td>Kendall is concerned whether Jan is well and w...</td>\n      <td>NaN</td>\n      <td>NaN</td>\n      <td>NaN</td>\n      <td>...</td>\n      <td>NaN</td>\n      <td>NaN</td>\n      <td>https://platform.toloka.ai/task/39728371/00025...</td>\n      <td>9b7795b3-e9bd-40c2-942e-5aec7c926517</td>\n      <td>00025e34f3--648f54a730a157283b8f781c</td>\n      <td>f66fab3f4844460495ad2fc206363540</td>\n      <td>APPROVED</td>\n      <td>2023-06-18T19:01:59.151</td>\n      <td>+</td>\n      <td>NaN</td>\n    </tr>\n    <tr>\n      <th>8</th>\n      <td>test</td>\n      <td>in_love</td>\n      <td>Being loved</td>\n      <td>I totally agree with AI rationale. I don't see...</td>\n      <td>NaN</td>\n      <td>I agree with AI's rationale.Our previous choic...</td>\n      <td>I fully agree with AI rationale.</td>\n      <td>NaN</td>\n      <td>NaN</td>\n      <td>NaN</td>\n      <td>...</td>\n      <td>NaN</td>\n      <td>NaN</td>\n      <td>https://platform.toloka.ai/task/39728371/00025...</td>\n      <td>9b7795b3-e9bd-40c2-942e-5aec7c926517</td>\n      <td>00025e34f3--648f55261b85d236d904cc67</td>\n      <td>cd183e9eb538d3c9e23db7a682d994b5</td>\n      <td>APPROVED</td>\n      <td>2023-06-18T19:04:06.883</td>\n      <td>+</td>\n      <td>NaN</td>\n    </tr>\n    <tr>\n      <th>...</th>\n      <td>...</td>\n      <td>...</td>\n      <td>...</td>\n      <td>...</td>\n      <td>...</td>\n      <td>...</td>\n      <td>...</td>\n      <td>...</td>\n      <td>...</td>\n      <td>...</td>\n      <td>...</td>\n      <td>...</td>\n      <td>...</td>\n      <td>...</td>\n      <td>...</td>\n      <td>...</td>\n      <td>...</td>\n      <td>...</td>\n      <td>...</td>\n      <td>...</td>\n      <td>...</td>\n    </tr>\n    <tr>\n      <th>114</th>\n      <td>test</td>\n      <td>in_love</td>\n      <td>Being loved</td>\n      <td>growth and connection</td>\n      <td>NaN</td>\n      <td>talk to jan about the dance</td>\n      <td>Kendall's actions of trying to make sure Jan s...</td>\n      <td>NaN</td>\n      <td>NaN</td>\n      <td>NaN</td>\n      <td>...</td>\n      <td>NaN</td>\n      <td>NaN</td>\n      <td>https://platform.toloka.ai/task/39720104/00025...</td>\n      <td>5afc5b61-4996-460e-aff6-d93365ef9b5a</td>\n      <td>00025e14a8--648eb99feab89e4159a73549</td>\n      <td>8b4b9effd636046504d9f4bb635b1c88</td>\n      <td>APPROVED</td>\n      <td>2023-06-18T08:00:31.434</td>\n      <td>+</td>\n      <td>NaN</td>\n    </tr>\n    <tr>\n      <th>115</th>\n      <td>test</td>\n      <td>in_love</td>\n      <td>Being loved</td>\n      <td>they live together</td>\n      <td>NaN</td>\n      <td>jan engaged with her</td>\n      <td>they shoul love each other</td>\n      <td>NaN</td>\n      <td>NaN</td>\n      <td>NaN</td>\n      <td>...</td>\n      <td>NaN</td>\n      <td>NaN</td>\n      <td>https://platform.toloka.ai/task/39720104/00025...</td>\n      <td>5afc5b61-4996-460e-aff6-d93365ef9b5a</td>\n      <td>00025e14a8--648ebb1ed2237e38d7c83b95</td>\n      <td>d05510a88cbb206d35fbaac0c87bd8be</td>\n      <td>APPROVED</td>\n      <td>2023-06-18T08:06:54.715</td>\n      <td>+</td>\n      <td>NaN</td>\n    </tr>\n    <tr>\n      <th>116</th>\n      <td>test</td>\n      <td>Angry</td>\n      <td>NaN</td>\n      <td>He has been pandering to Jan and seeking valid...</td>\n      <td>The above are posssibele outcomes</td>\n      <td>NaN</td>\n      <td>NaN</td>\n      <td>NaN</td>\n      <td>Jan_home</td>\n      <td>NaN</td>\n      <td>...</td>\n      <td>NaN</td>\n      <td>NaN</td>\n      <td>https://platform.toloka.ai/task/39720104/00025...</td>\n      <td>5afc5b61-4996-460e-aff6-d93365ef9b5a</td>\n      <td>00025e14a8--648ebb1f30a157283b785fd5</td>\n      <td>10580bdf6a46d5239243a23bb061797e</td>\n      <td>APPROVED</td>\n      <td>2023-06-18T08:06:55.427</td>\n      <td>+</td>\n      <td>NaN</td>\n    </tr>\n    <tr>\n      <th>117</th>\n      <td>test</td>\n      <td>in_love</td>\n      <td>Being loved</td>\n      <td>Good emotions</td>\n      <td>NaN</td>\n      <td>I love good endings</td>\n      <td>I love good endings</td>\n      <td>NaN</td>\n      <td>NaN</td>\n      <td>NaN</td>\n      <td>...</td>\n      <td>NaN</td>\n      <td>NaN</td>\n      <td>https://platform.toloka.ai/task/39720104/00025...</td>\n      <td>5afc5b61-4996-460e-aff6-d93365ef9b5a</td>\n      <td>00025e14a8--648ec0585a761439e30663f3</td>\n      <td>0a536b68aa0f2ae751cf2b4480e4f90a</td>\n      <td>APPROVED</td>\n      <td>2023-06-18T08:29:12.397</td>\n      <td>+</td>\n      <td>NaN</td>\n    </tr>\n    <tr>\n      <th>118</th>\n      <td>test</td>\n      <td>in_love</td>\n      <td>NaN</td>\n      <td>It is a mistake since I should have felt anger</td>\n      <td>NaN</td>\n      <td>correcto</td>\n      <td>NaN</td>\n      <td>correct</td>\n      <td>NaN</td>\n      <td>love_2</td>\n      <td>...</td>\n      <td>NaN</td>\n      <td>NaN</td>\n      <td>https://platform.toloka.ai/task/39720104/00025...</td>\n      <td>5afc5b61-4996-460e-aff6-d93365ef9b5a</td>\n      <td>00025e14a8--648ec13508b5135b66e30166</td>\n      <td>2cdc7d9ac1576355caf541498b375b7a</td>\n      <td>APPROVED</td>\n      <td>2023-06-18T08:32:53.303</td>\n      <td>+</td>\n      <td>NaN</td>\n    </tr>\n  </tbody>\n</table>\n<p>64 rows × 52 columns</p>\n</div>"
     },
     "execution_count": 2,
     "metadata": {},
     "output_type": "execute_result"
    }
   ],
   "source": [
    "df = df[df['ASSIGNMENT:status']!='REJECTED'].dropna(axis=0, how='all')\n",
    "df"
   ],
   "metadata": {
    "collapsed": false,
    "pycharm": {
     "name": "#%%\n"
    }
   }
  },
  {
   "cell_type": "code",
   "execution_count": 3,
   "outputs": [
    {
     "name": "stderr",
     "output_type": "stream",
     "text": [
      "No model was supplied, defaulted to distilbert-base-uncased-finetuned-sst-2-english (https://huggingface.co/distilbert-base-uncased-finetuned-sst-2-english)\n"
     ]
    },
    {
     "data": {
      "text/plain": "Downloading: 0.00B [00:00, ?B/s]",
      "application/vnd.jupyter.widget-view+json": {
       "version_major": 2,
       "version_minor": 0,
       "model_id": "37bf13955d3244b4b74c32e5fe283537"
      }
     },
     "metadata": {},
     "output_type": "display_data"
    }
   ],
   "source": [
    "from transformers import pipeline\n",
    "\n",
    "# Load the pre-trained sentiment analysis model\n",
    "sentiment_analysis = pipeline(\"sentiment-analysis\")"
   ],
   "metadata": {
    "collapsed": false,
    "pycharm": {
     "name": "#%%\n"
    }
   }
  },
  {
   "cell_type": "code",
   "execution_count": 4,
   "outputs": [],
   "source": [
    "# Perform sentiment analysis on a given text\n",
    "def analyze_sentiment(text):\n",
    "    results = sentiment_analysis(text)\n",
    "    pos = 0\n",
    "    for result in results:\n",
    "        label = result['label']\n",
    "        score = result['score']\n",
    "        if label == 'POSITIVE':\n",
    "            pos = pos + 1\n",
    "        print(f\"Sentiment: {label}, Score: {score}\")\n",
    "    return pos"
   ],
   "metadata": {
    "collapsed": false,
    "pycharm": {
     "name": "#%%\n"
    }
   }
  },
  {
   "cell_type": "code",
   "execution_count": 13,
   "outputs": [
    {
     "name": "stdout",
     "output_type": "stream",
     "text": [
      "Sentiment: POSITIVE, Score: 0.9998231530189514\n",
      "Sentiment: POSITIVE, Score: 0.9995974898338318\n",
      "Sentiment: POSITIVE, Score: 0.9998205304145813\n",
      "Sentiment: POSITIVE, Score: 0.9997809529304504\n",
      "Sentiment: POSITIVE, Score: 0.9831395745277405\n",
      "Sentiment: POSITIVE, Score: 0.9998785257339478\n",
      "Sentiment: NEGATIVE, Score: 0.5397492051124573\n",
      "Sentiment: POSITIVE, Score: 0.999552309513092\n",
      "Sentiment: NEGATIVE, Score: 0.8275139331817627\n",
      "Sentiment: POSITIVE, Score: 0.9970878958702087\n",
      "Sentiment: POSITIVE, Score: 0.9992896318435669\n",
      "Sentiment: NEGATIVE, Score: 0.9992340803146362\n",
      "Sentiment: POSITIVE, Score: 0.9996782541275024\n",
      "Sentiment: NEGATIVE, Score: 0.8372460007667542\n",
      "Sentiment: POSITIVE, Score: 0.9991249442100525\n",
      "Sentiment: POSITIVE, Score: 0.9997108578681946\n",
      "Sentiment: POSITIVE, Score: 0.9956361651420593\n",
      "Sentiment: POSITIVE, Score: 0.996752142906189\n",
      "Sentiment: POSITIVE, Score: 0.9998229146003723\n",
      "Sentiment: NEGATIVE, Score: 0.932067334651947\n",
      "Sentiment: POSITIVE, Score: 0.999822199344635\n",
      "Sentiment: NEGATIVE, Score: 0.9860775470733643\n",
      "Sentiment: POSITIVE, Score: 0.9998871088027954\n",
      "Sentiment: POSITIVE, Score: 0.9994935989379883\n",
      "Sentiment: POSITIVE, Score: 0.9970327615737915\n",
      "Sentiment: POSITIVE, Score: 0.7513552904129028\n",
      "Sentiment: POSITIVE, Score: 0.9998387098312378\n",
      "Sentiment: POSITIVE, Score: 0.9982671737670898\n",
      "Sentiment: POSITIVE, Score: 0.9989665746688843\n",
      "Sentiment: POSITIVE, Score: 0.9996528625488281\n",
      "Sentiment: POSITIVE, Score: 0.9867780208587646\n",
      "Sentiment: POSITIVE, Score: 0.9997499585151672\n",
      "Sentiment: POSITIVE, Score: 0.9970611929893494\n",
      "Sentiment: POSITIVE, Score: 0.9905185103416443\n",
      "Sentiment: POSITIVE, Score: 0.9853502511978149\n",
      "Sentiment: POSITIVE, Score: 0.9958716034889221\n",
      "Sentiment: POSITIVE, Score: 0.9668781757354736\n",
      "Sentiment: POSITIVE, Score: 0.9988529682159424\n",
      "Sentiment: POSITIVE, Score: 0.9997716546058655\n",
      "Sentiment: POSITIVE, Score: 0.9995724558830261\n",
      "Sentiment: POSITIVE, Score: 0.9979881048202515\n",
      "Sentiment: POSITIVE, Score: 0.9953515529632568\n",
      "Sentiment: NEGATIVE, Score: 0.5075913071632385\n",
      "Sentiment: POSITIVE, Score: 0.9997909665107727\n",
      "Sentiment: NEGATIVE, Score: 0.9920381307601929\n",
      "Sentiment: POSITIVE, Score: 0.9998100399971008\n",
      "Sentiment: POSITIVE, Score: 0.9974669218063354\n",
      "Sentiment: POSITIVE, Score: 0.9970327615737915\n",
      "Sentiment: POSITIVE, Score: 0.9997320771217346\n",
      "positive rational: total_count: 49 positive rate: 0.8367346938775511\n"
     ]
    }
   ],
   "source": [
    "text = df[df['OUTPUT:Jan_feel']=='Being loved']['OUTPUT:rationale_4_original'].tolist()\n",
    "pos = analyze_sentiment(text)\n",
    "print(\"positive rational: total_count: \"+str(len(text))+\" positive rate: \"+ str(pos/len(text)))"
   ],
   "metadata": {
    "collapsed": false,
    "pycharm": {
     "name": "#%%\n"
    }
   }
  },
  {
   "cell_type": "code",
   "execution_count": 12,
   "outputs": [
    {
     "data": {
      "text/plain": "     INPUT:input OUTPUT:answer OUTPUT:Jan_feel            OUTPUT:rationale_1  \\\n105         test       in_love   Being ignored  Because this is a good game    \n\n    OUTPUT:rationale_2            OUTPUT:rationale_3  \\\n105                NaN  Because this is a good game    \n\n               OUTPUT:rationale_4 OUTPUT:rationale_5 OUTPUT:answer_Angry  \\\n105  Because this is a good game                 NaN                 NaN   \n\n    OUTPUT:kendall_feel  ... HINT:text HINT:default_language  \\\n105                 NaN  ...       NaN                   NaN   \n\n                                       ASSIGNMENT:link  \\\n105  https://platform.toloka.ai/task/39722515/00025...   \n\n                       ASSIGNMENT:task_id  \\\n105  c44a1415-d098-4696-a69d-944c870fdf4a   \n\n                 ASSIGNMENT:assignment_id              ASSIGNMENT:worker_id  \\\n105  00025e1e13--648eef4ea1af7c7d84c1003f  9a73693319fefc093b8b8d3a1eafad33   \n\n    ASSIGNMENT:status       ASSIGNMENT:started ACCEPT:verdict ACCEPT:comment  \n105          APPROVED  2023-06-18T11:49:34.818            NaN            NaN  \n\n[1 rows x 52 columns]",
      "text/html": "<div>\n<style scoped>\n    .dataframe tbody tr th:only-of-type {\n        vertical-align: middle;\n    }\n\n    .dataframe tbody tr th {\n        vertical-align: top;\n    }\n\n    .dataframe thead th {\n        text-align: right;\n    }\n</style>\n<table border=\"1\" class=\"dataframe\">\n  <thead>\n    <tr style=\"text-align: right;\">\n      <th></th>\n      <th>INPUT:input</th>\n      <th>OUTPUT:answer</th>\n      <th>OUTPUT:Jan_feel</th>\n      <th>OUTPUT:rationale_1</th>\n      <th>OUTPUT:rationale_2</th>\n      <th>OUTPUT:rationale_3</th>\n      <th>OUTPUT:rationale_4</th>\n      <th>OUTPUT:rationale_5</th>\n      <th>OUTPUT:answer_Angry</th>\n      <th>OUTPUT:kendall_feel</th>\n      <th>...</th>\n      <th>HINT:text</th>\n      <th>HINT:default_language</th>\n      <th>ASSIGNMENT:link</th>\n      <th>ASSIGNMENT:task_id</th>\n      <th>ASSIGNMENT:assignment_id</th>\n      <th>ASSIGNMENT:worker_id</th>\n      <th>ASSIGNMENT:status</th>\n      <th>ASSIGNMENT:started</th>\n      <th>ACCEPT:verdict</th>\n      <th>ACCEPT:comment</th>\n    </tr>\n  </thead>\n  <tbody>\n    <tr>\n      <th>105</th>\n      <td>test</td>\n      <td>in_love</td>\n      <td>Being ignored</td>\n      <td>Because this is a good game</td>\n      <td>NaN</td>\n      <td>Because this is a good game</td>\n      <td>Because this is a good game</td>\n      <td>NaN</td>\n      <td>NaN</td>\n      <td>NaN</td>\n      <td>...</td>\n      <td>NaN</td>\n      <td>NaN</td>\n      <td>https://platform.toloka.ai/task/39722515/00025...</td>\n      <td>c44a1415-d098-4696-a69d-944c870fdf4a</td>\n      <td>00025e1e13--648eef4ea1af7c7d84c1003f</td>\n      <td>9a73693319fefc093b8b8d3a1eafad33</td>\n      <td>APPROVED</td>\n      <td>2023-06-18T11:49:34.818</td>\n      <td>NaN</td>\n      <td>NaN</td>\n    </tr>\n  </tbody>\n</table>\n<p>1 rows × 52 columns</p>\n</div>"
     },
     "execution_count": 12,
     "metadata": {},
     "output_type": "execute_result"
    }
   ],
   "source": [
    "text = df[df['OUTPUT:Jan_feel']=='Being ignored']\n",
    "text"
   ],
   "metadata": {
    "collapsed": false,
    "pycharm": {
     "name": "#%%\n"
    }
   }
  },
  {
   "cell_type": "code",
   "execution_count": 28,
   "outputs": [
    {
     "data": {
      "text/plain": "57"
     },
     "execution_count": 28,
     "metadata": {},
     "output_type": "execute_result"
    }
   ],
   "source": [
    "len(text)"
   ],
   "metadata": {
    "collapsed": false,
    "pycharm": {
     "name": "#%%\n"
    }
   }
  },
  {
   "cell_type": "code",
   "execution_count": 11,
   "outputs": [
    {
     "name": "stderr",
     "output_type": "stream",
     "text": [
      "Some weights of the model checkpoint at bert-base-uncased were not used when initializing BertForSequenceClassification: ['cls.seq_relationship.weight', 'cls.predictions.transform.dense.weight', 'cls.predictions.transform.dense.bias', 'cls.predictions.bias', 'cls.predictions.decoder.weight', 'cls.seq_relationship.bias', 'cls.predictions.transform.LayerNorm.weight', 'cls.predictions.transform.LayerNorm.bias']\n",
      "- This IS expected if you are initializing BertForSequenceClassification from the checkpoint of a model trained on another task or with another architecture (e.g. initializing a BertForSequenceClassification model from a BertForPreTraining model).\n",
      "- This IS NOT expected if you are initializing BertForSequenceClassification from the checkpoint of a model that you expect to be exactly identical (initializing a BertForSequenceClassification model from a BertForSequenceClassification model).\n",
      "Some weights of BertForSequenceClassification were not initialized from the model checkpoint at bert-base-uncased and are newly initialized: ['classifier.bias', 'classifier.weight']\n",
      "You should probably TRAIN this model on a down-stream task to be able to use it for predictions and inference.\n"
     ]
    }
   ],
   "source": [
    "from transformers import BertTokenizer, BertForSequenceClassification\n",
    "import torch\n",
    "\n",
    "# Load the pre-trained model and tokenizer\n",
    "model_name = 'bert-base-uncased'\n",
    "model = BertForSequenceClassification.from_pretrained(model_name, num_labels=8)\n",
    "tokenizer = BertTokenizer.from_pretrained(model_name)\n",
    "\n",
    "# Define the emotion labels\n",
    "emotion_labels = ['anger', 'fear', 'joy', 'love', 'sadness', 'surprise', 'neutral', 'others']"
   ],
   "metadata": {
    "collapsed": false,
    "pycharm": {
     "name": "#%%\n"
    }
   }
  },
  {
   "cell_type": "code",
   "execution_count": 26,
   "outputs": [
    {
     "name": "stdout",
     "output_type": "stream",
     "text": [
      "Emotion Percentage:\n",
      "anger: 92.98%\n",
      "fear: 3.51%\n",
      "joy: 0.00%\n",
      "love: 1.75%\n",
      "sadness: 0.00%\n",
      "surprise: 0.00%\n",
      "neutral: 0.00%\n",
      "others: 1.75%\n"
     ]
    }
   ],
   "source": [
    "# Preprocess the input text\n",
    "def preprocess_text(text):\n",
    "    inputs = tokenizer.encode_plus(\n",
    "        text,\n",
    "        add_special_tokens=True,\n",
    "        max_length=128,\n",
    "        truncation=True,\n",
    "        padding='longest',\n",
    "        return_attention_mask=True,\n",
    "        return_tensors='pt'\n",
    "    )\n",
    "    return inputs\n",
    "\n",
    "# Classify the emotion of the input text\n",
    "def classify_emotion(text):\n",
    "    inputs = preprocess_text(text)\n",
    "    outputs = model(**inputs)\n",
    "    logits = outputs.logits\n",
    "    probabilities = torch.softmax(logits, dim=1).detach().tolist()[0]\n",
    "    predicted_emotion = emotion_labels[probabilities.index(max(probabilities))]\n",
    "    return predicted_emotion\n",
    "\n",
    "# Read the CSV file and classify emotions for a specific column\n",
    "def classify_emotions_in_csv(ra):\n",
    "    emotions_count = {emotion: 0 for emotion in emotion_labels}\n",
    "    total_count = 0\n",
    "\n",
    "    for text in ra:\n",
    "        predicted_emotion = classify_emotion(text)\n",
    "        emotions_count[predicted_emotion] += 1\n",
    "        total_count += 1\n",
    "\n",
    "    # Calculate and print the percentage of each emotion\n",
    "    print(\"Emotion Percentage:\")\n",
    "    for emotion, count in emotions_count.items():\n",
    "        percentage = (count / total_count) * 100\n",
    "        print(f\"{emotion}: {percentage:.2f}%\")\n",
    "\n",
    "# Example usage\n",
    "# csv_file_path = 'your_file.csv'\n",
    "# column_to_classify = 'text_column'\n",
    "classify_emotions_in_csv(text)"
   ],
   "metadata": {
    "collapsed": false,
    "pycharm": {
     "name": "#%%\n"
    }
   }
  }
 ],
 "metadata": {
  "kernelspec": {
   "display_name": "Python 3",
   "language": "python",
   "name": "python3"
  },
  "language_info": {
   "codemirror_mode": {
    "name": "ipython",
    "version": 2
   },
   "file_extension": ".py",
   "mimetype": "text/x-python",
   "name": "python",
   "nbconvert_exporter": "python",
   "pygments_lexer": "ipython2",
   "version": "2.7.6"
  }
 },
 "nbformat": 4,
 "nbformat_minor": 0
}